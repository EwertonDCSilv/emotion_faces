{
 "cells": [
  {
   "cell_type": "markdown",
   "metadata": {
    "colab_type": "text",
    "id": "M20iOeIpGDEv"
   },
   "source": [
    "# Checking bias classifying facial emotions: models trained on imagenet"
   ]
  },
  {
   "cell_type": "markdown",
   "metadata": {
    "colab_type": "text",
    "id": "M20iOeIpGDEv"
   },
   "source": [
    "Explaining worker ....."
   ]
  },
  {
   "cell_type": "code",
   "execution_count": null,
   "metadata": {
    "colab": {
     "base_uri": "https://localhost:8080/",
     "height": 445
    },
    "colab_type": "code",
    "id": "BYvGvBWiyIFO",
    "outputId": "89b10b13-7b0b-45d4-b130-7a6902c8b820"
   },
   "outputs": [],
   "source": [
    "\"\"\"\n",
    "    Requirements to execute code\n",
    "\"\"\"\n",
    "\n",
    "# ! python3 -m pip install nltk\n",
    "# ! python3 -m pip install mtcnn\n",
    "# ! python3 -m pip install cv2\n",
    "# ! python3 -m pip install keras\n",
    "# ! python3 -m pip install numpy\n",
    "# ! python3 -m pip install pandas\n",
    "# ! python3 -m pip install cv2\n",
    "# ! python3 -m pip install regex\n"
   ]
  },
  {
   "cell_type": "code",
   "execution_count": null,
   "metadata": {
    "colab": {
     "base_uri": "https://localhost:8080/",
     "height": 80
    },
    "colab_type": "code",
    "id": "Diqj8z1pHtPv",
    "outputId": "b48b38ab-4686-4a58-cff9-cb71fff348d2"
   },
   "outputs": [],
   "source": [
    "from keras.models import Sequential\n",
    "from keras.layers.core import Dense, Dropout, Flatten\n",
    "from keras.layers.convolutional import Conv2D\n",
    "from keras.optimizers import Adam\n",
    "from keras.layers.pooling import MaxPooling2D\n",
    "from keras.preprocessing.image import ImageDataGenerator\n",
    "\n",
    "import os\n",
    "# import cv2\n",
    "import pandas as pd\n",
    "import numpy as np\n",
    "import matplotlib as mpl\n",
    "import matplotlib.pyplot as plt\n",
    "\n",
    "%matplotlib inline\n",
    "plt.rcParams['figure.figsize']  = (10, 8)\n",
    "plt.rcParams['axes.labelsize']  = 12\n",
    "plt.rcParams['axes.titlesize']  = 16\n",
    "plt.rcParams['legend.fontsize'] = 12\n",
    "plt.rcParams['xtick.labelsize'] = 12\n",
    "plt.rcParams['ytick.labelsize'] = 12"
   ]
  },
  {
   "cell_type": "code",
   "execution_count": null,
   "metadata": {},
   "outputs": [],
   "source": [
    "plt.ion()\n",
    "\n",
    "plt.style.use('seaborn-colorblind')\n",
    "plt.rcParams['figure.figsize']  = (12, 10)"
   ]
  },
  {
   "cell_type": "markdown",
   "metadata": {
    "colab_type": "text",
    "id": "M20iOeIpGDEv"
   },
   "source": [
    "## Classifying facial emotions "
   ]
  },
  {
   "cell_type": "code",
   "execution_count": null,
   "metadata": {},
   "outputs": [],
   "source": [
    "\"\"\"\n",
    "    Importing Pre-Trained  face recognition model.\n",
    "    Font article : https://github.com/atulapra/Emotion-detection/blob/master/ResearchPaper.pdf\n",
    "\"\"\"\n",
    "\n",
    "# Create the model\n",
    "model = Sequential()\n",
    "\n",
    "model.add(Conv2D(32, kernel_size=(3, 3), activation='relu', input_shape=(48,48,1)))\n",
    "model.add(Conv2D(64, kernel_size=(3, 3), activation='relu'))\n",
    "model.add(MaxPooling2D(pool_size=(2, 2)))\n",
    "model.add(Dropout(0.25))\n",
    "\n",
    "model.add(Conv2D(128, kernel_size=(3, 3), activation='relu'))\n",
    "model.add(MaxPooling2D(pool_size=(2, 2)))\n",
    "model.add(Conv2D(128, kernel_size=(3, 3), activation='relu'))\n",
    "model.add(MaxPooling2D(pool_size=(2, 2)))\n",
    "model.add(Dropout(0.25))\n",
    "\n",
    "model.add(Flatten())\n",
    "model.add(Dense(1024, activation='relu'))\n",
    "model.add(Dropout(0.5))\n",
    "model.add(Dense(7, activation='softmax'))\n",
    "\n",
    "# Import values for model\n",
    "model.load_weights('model/model.h5')   \n",
    "\n",
    "# Folder of faces images\n",
    "path = 'fairface-img-margin125-trainval/train/'\n",
    "\n",
    "# List of faces images\n",
    "images_list = os.listdir(path)\n",
    "\n",
    "# List of Classifiable Emotions\n",
    "emotion_dict = {0: \"Angry\", 1: \"Disgusted\", 2: \"Fearful\", 3: \"Happy\", 4: \"Neutral\", 5: \"Sad\", 6: \"Surprised\"}\n",
    "\n",
    "# Dictionary for save results\n",
    "dictResult = {}\n",
    "resultImage = {}\n",
    "i = 0\n",
    "\n",
    "# Process list of face images\n",
    "for file in images_list:\n",
    "    nameFile = path+file\n",
    "    # Warning execution\n",
    "    if i % 1000 == 0:\n",
    "        print(\"{}/{}- file:{}\".format(i,len(images_list),nameFile))\n",
    "    \n",
    "    # Converting image to numeric array\n",
    "    face_image  = cv2.imread(nameFile)\n",
    "    face_image = cv2.resize(face_image, (48,48))\n",
    "    face_image = cv2.cvtColor(face_image, cv2.COLOR_BGR2GRAY)\n",
    "    face_image = np.reshape(face_image, [1, face_image.shape[0], face_image.shape[1], 1])\n",
    "    \n",
    "    # Predtion for face image\n",
    "    predicted_class = np.argmax(model.predict(face_image))\n",
    "    predicted_label = emotion_dict [predicted_class]\n",
    "    \n",
    "    # Save result of prediction\n",
    "    if predicted_label in dictResult:\n",
    "        dictResult[predicted_label] += 1\n",
    "    else:\n",
    "        dictResult.update({predicted_label: 1})\n",
    "        \n",
    "    resultImage.update({file: predicted_label})\n",
    "    \n",
    "    i += 1\n",
    "\n",
    "# ALL: {'Angry': 9376, 'Sad': 17019, 'Happy': 24401, 'Fear': 22127, 'Disgust': 39, 'Neutral': 8428, 'Surprise': 5354}\n",
    "# 1000 : {'Angry': 109, 'Sad': 217, 'Happy': 274, 'Fear': 246, 'Disgust': 1, 'Neutral': 90, 'Surprise': 63}"
   ]
  },
  {
   "cell_type": "markdown",
   "metadata": {
    "colab_type": "text",
    "id": "M20iOeIpGDEv"
   },
   "source": [
    "### Exporting results"
   ]
  },
  {
   "cell_type": "code",
   "execution_count": null,
   "metadata": {},
   "outputs": [],
   "source": [
    "# Dataframe of labels\n",
    "df = pd.read_csv('label/fairface_label_train.csv')\n",
    "df.loc[:,\"file\"] = [x.replace('train/',\"\") for x in df.loc[:,\"file\"]]\n",
    "\n",
    "data = {'file':list(resultImage.keys()), 'emotions':list(resultImage.values())}\n",
    "\n",
    "# Dataframe of result\n",
    "df_result = pd.DataFrame(data=data, columns=['file', 'emotions'])\n",
    "\n",
    "# Join two files\n",
    "df = pd.merge(df_result, df, how=\"outer\", on=\"file\")\n",
    "df.head(5)"
   ]
  },
  {
   "cell_type": "code",
   "execution_count": null,
   "metadata": {},
   "outputs": [],
   "source": [
    "# Saves result to your used later\n",
    "df.to_csv('label/emotions-fairface.csv')"
   ]
  },
  {
   "cell_type": "markdown",
   "metadata": {},
   "source": [
    "## Exploratory Data Analisys"
   ]
  },
  {
   "cell_type": "markdown",
   "metadata": {},
   "source": [
    "### Importing and merging data frames"
   ]
  },
  {
   "cell_type": "code",
   "execution_count": null,
   "metadata": {},
   "outputs": [],
   "source": [
    "# Importing result images classification \n",
    "df = pd.read_csv('label/emotions-fairface.csv', index_col=0)\n",
    "df.head(5)"
   ]
  },
  {
   "cell_type": "markdown",
   "metadata": {},
   "source": [
    "### Function for merge columns categories"
   ]
  },
  {
   "cell_type": "code",
   "execution_count": null,
   "metadata": {},
   "outputs": [],
   "source": [
    "def mergeForPlot(df, col_name, col_count='count', atribut_fix='emotions'):\n",
    "    # Define labels for aixes X\n",
    "    atribut_fix_list = list(df[atribut_fix].unique())\n",
    "\n",
    "    # Set of col name\n",
    "    labels = list(set(df[col_name]))\n",
    "    labels.sort()\n",
    "    \n",
    "    # Define empty dataframe\n",
    "    df_merge = pd.DataFrame({})\n",
    "\n",
    "    for label in labels:\n",
    "\n",
    "        # Group for colums \n",
    "        exp = col_name+' == \"'+label +'\"'\n",
    "        data = df.query(exp)\n",
    "        data = data[[atribut_fix,col_count]]\n",
    "        data.columns = [atribut_fix,\"Count \"+label]\n",
    "\n",
    "        if df_merge.shape[0] == 0:\n",
    "            df_merge = data\n",
    "        else:\n",
    "            df_merge = pd.merge(df_merge,data, on=atribut_fix, how =\"outer\")\n",
    "    \n",
    "    return df_merge"
   ]
  },
  {
   "cell_type": "markdown",
   "metadata": {},
   "source": [
    "### Population Measures"
   ]
  },
  {
   "cell_type": "markdown",
   "metadata": {},
   "source": [
    "#### Gender"
   ]
  },
  {
   "cell_type": "code",
   "execution_count": null,
   "metadata": {},
   "outputs": [],
   "source": [
    "# Count gender in FairFaces Dataset\n",
    "faces_gender = df[['gender',\"file\"]]\n",
    "faces_gender.columns = ['gender',\"count\"]\n",
    "faces_gender = faces_gender.groupby(\"gender\",as_index=False).count()\n",
    "gender_list = faces_gender['gender'].unique()\n",
    "\n",
    "# Values\n",
    "genders_list = faces_gender.iloc[:,0].values\n",
    "values = faces_gender.iloc[:,1].values\n",
    "\n",
    "# Ploting line by line\n",
    "for unq_value in gender_list:\n",
    "    mask = faces_gender['gender'] == unq_value\n",
    "    df_subset = faces_gender[mask]\n",
    "    plt.bar(df_subset['gender'], df_subset['count'], edgecolor='k',width=0.4)\n",
    "\n",
    "# Config plot\n",
    "plt.xticks(rotation=90)\n",
    "plt.xlabel(\"Genders\")\n",
    "plt.ylabel(\"Count gender\")\n",
    "plt.title(\"Distribution of genders in FairFaces dataset\")\n",
    "plt.legend(gender_list, loc='upper left',  ncol=3, fancybox=True, shadow=True)\n",
    "plt.show()"
   ]
  },
  {
   "cell_type": "markdown",
   "metadata": {},
   "source": [
    "#### Race"
   ]
  },
  {
   "cell_type": "code",
   "execution_count": null,
   "metadata": {},
   "outputs": [],
   "source": [
    "# Count gender in FairFaces Dataset\n",
    "faces_race = df[['race',\"file\"]]\n",
    "faces_race.columns = ['race',\"count\"]\n",
    "faces_race = faces_race.groupby(\"race\",as_index=False).count()\n",
    "race_list = faces_race['race'].unique()\n",
    "\n",
    "# Values\n",
    "races_list = faces_race.iloc[:,0].values\n",
    "values = faces_race.iloc[:,1].values\n",
    "\n",
    "# Ploting line by line\n",
    "for unq_value in race_list:\n",
    "    mask = faces_race['race'] == unq_value\n",
    "    df_subset = faces_race[mask]\n",
    "    plt.bar(df_subset['race'], df_subset['count'], edgecolor='k')\n",
    "\n",
    "# Config plot\n",
    "plt.xticks(rotation=90)\n",
    "plt.xlabel(\"Genders\")\n",
    "plt.ylabel(\"Count gender\")\n",
    "plt.title(\"Distribution of races in FairFaces dataset\")\n",
    "plt.legend(race_list, loc='upper left',  ncol=3, fancybox=True, shadow=True)\n",
    "plt.show()"
   ]
  },
  {
   "cell_type": "markdown",
   "metadata": {},
   "source": [
    "#### Age"
   ]
  },
  {
   "cell_type": "code",
   "execution_count": null,
   "metadata": {},
   "outputs": [],
   "source": [
    "# Count gender in FairFaces Dataset\n",
    "faces_age = df[['age',\"file\"]]\n",
    "faces_age.columns = ['age',\"count\"]\n",
    "faces_age = faces_age.groupby(\"age\",as_index=False).count()\n",
    "age_list = faces_age['age'].unique()\n",
    "\n",
    "# Values\n",
    "ages_list = faces_age.iloc[:,0].values\n",
    "values = faces_age.iloc[:,1].values\n",
    "\n",
    "# Ploting line by line\n",
    "for unq_value in age_list:\n",
    "    mask = faces_age['age'] == unq_value\n",
    "    df_subset = faces_age[mask]\n",
    "    plt.bar(df_subset['age'], df_subset['count'], edgecolor='k')\n",
    "\n",
    "# Config plot\n",
    "plt.xticks(rotation=90)\n",
    "plt.xlabel(\"Genders\")\n",
    "plt.ylabel(\"Count gender\")\n",
    "plt.title(\"Distribution of ages in FairFaces dataset\")\n",
    "plt.legend(age_list, loc='upper right',  ncol=3, fancybox=True, shadow=True)\n",
    "plt.show()"
   ]
  },
  {
   "cell_type": "markdown",
   "metadata": {},
   "source": [
    "### Emotions Measures"
   ]
  },
  {
   "cell_type": "markdown",
   "metadata": {},
   "source": [
    "#### Emotions for gender"
   ]
  },
  {
   "cell_type": "code",
   "execution_count": null,
   "metadata": {},
   "outputs": [],
   "source": [
    "df_gender = df.groupby([\"emotions\", \"gender\"], as_index=False).sum()\n",
    "df_gender.columns = [\"emotions\", \"gender\", \"count\"]"
   ]
  },
  {
   "cell_type": "code",
   "execution_count": null,
   "metadata": {},
   "outputs": [],
   "source": [
    "emotions_list = list(df_gender['emotions'].unique())\n",
    "\n",
    "df_merge = mergeForPlot(df_gender,'gender')\n",
    "plotResult = df_merge.plot.bar(\n",
    "    width = 0.40, \n",
    "    edgecolor='k'\n",
    ").set(\n",
    "    xticklabels=emotions_list,\n",
    "    title=\"Emotions for gender\",\n",
    "    xlabel='Emotions',\n",
    "    ylabel=\"Count\"\n",
    ")"
   ]
  },
  {
   "cell_type": "markdown",
   "metadata": {},
   "source": [
    "#### Emotions for races"
   ]
  },
  {
   "cell_type": "code",
   "execution_count": null,
   "metadata": {},
   "outputs": [],
   "source": [
    "df_race = df.groupby([\"emotions\", \"race\"], as_index=False).sum()\n",
    "df_race.columns = [\"emotions\", \"race\", \"count\"]"
   ]
  },
  {
   "cell_type": "code",
   "execution_count": null,
   "metadata": {},
   "outputs": [],
   "source": [
    "emotions_list = list(df_race['emotions'].unique())\n",
    "\n",
    "df_merge = mergeForPlot(df_race,'race')\n",
    "plotResult = df_merge.plot.bar(\n",
    "    width = 0.90,\n",
    "    edgecolor='k'\n",
    ").set(\n",
    "    xticklabels=emotions_list,\n",
    "    title=\"Emotions for race\",\n",
    "    xlabel='Emotions',\n",
    "    ylabel=\"Count\"\n",
    ")"
   ]
  },
  {
   "cell_type": "markdown",
   "metadata": {},
   "source": [
    "#### Emotions for age"
   ]
  },
  {
   "cell_type": "code",
   "execution_count": null,
   "metadata": {},
   "outputs": [],
   "source": [
    "df_age = df.groupby([\"emotions\", \"age\"], as_index=False).sum()\n",
    "df_age.columns = [\"emotions\", \"age\", \"count\"]"
   ]
  },
  {
   "cell_type": "code",
   "execution_count": null,
   "metadata": {},
   "outputs": [],
   "source": [
    "emotions_list = list(df_age['emotions'].unique())\n",
    "\n",
    "df_merge = mergeForPlot(df_age,'age')\n",
    "plotResult = df_merge.plot.bar(\n",
    "    width = 0.90,\n",
    "    edgecolor='k'\n",
    ").set(\n",
    "    xticklabels=emotions_list,\n",
    "    title=\"Emotions for age\",\n",
    "    xlabel='Emotions',\n",
    "    ylabel=\"Count\"\n",
    ")"
   ]
  },
  {
   "cell_type": "markdown",
   "metadata": {},
   "source": [
    "#### Emotions for age and gender"
   ]
  },
  {
   "cell_type": "code",
   "execution_count": null,
   "metadata": {},
   "outputs": [],
   "source": [
    "df_age_gender = df.groupby([\"emotions\", \"age\", \"gender\"], as_index=False).sum()\n",
    "df_age_gender.columns = [\"emotions\", \"age\", \"gender\",\"count\"]"
   ]
  },
  {
   "cell_type": "markdown",
   "metadata": {},
   "source": [
    "##### Gender: male"
   ]
  },
  {
   "cell_type": "code",
   "execution_count": null,
   "metadata": {},
   "outputs": [],
   "source": [
    "df_male = df_age_gender.query(\"gender == 'Male'\")\n",
    "df_female = df_age_gender.query(\"gender == 'Female'\")"
   ]
  },
  {
   "cell_type": "code",
   "execution_count": null,
   "metadata": {},
   "outputs": [],
   "source": [
    "emotions_list = list(df_male['emotions'].unique())\n",
    "\n",
    "df_merge = mergeForPlot(df_male,'age')\n",
    "plotResult = df_merge.plot.bar(\n",
    "    width = 0.90,\n",
    "    edgecolor='k'\n",
    ").set(\n",
    "    xticklabels=emotions_list,\n",
    "    title=\"Emotions for age: male\",\n",
    "    xlabel='Emotions',\n",
    "    ylabel=\"Count\"\n",
    ")"
   ]
  },
  {
   "cell_type": "markdown",
   "metadata": {},
   "source": [
    "##### Gender: female"
   ]
  },
  {
   "cell_type": "code",
   "execution_count": null,
   "metadata": {},
   "outputs": [],
   "source": [
    "emotions_list = list(df_female['emotions'].unique())\n",
    "\n",
    "df_merge = mergeForPlot(df_female,'age')\n",
    "plotResult = df_merge.plot.bar(\n",
    "    width = 0.90,\n",
    "    edgecolor='k'\n",
    ").set(\n",
    "    xticklabels=emotions_list,\n",
    "    title=\"Emotions for age: female\",\n",
    "    xlabel='Emotions',\n",
    "    ylabel=\"Count\"\n",
    ")"
   ]
  },
  {
   "cell_type": "markdown",
   "metadata": {},
   "source": [
    "#### Emotions for age and race"
   ]
  },
  {
   "cell_type": "code",
   "execution_count": null,
   "metadata": {},
   "outputs": [],
   "source": [
    "df_age_race = df.groupby([\"emotions\", \"age\", \"race\"], as_index=False).sum()\n",
    "df_age_race.columns = [\"emotions\", \"age\", \"race\",\"count\"]"
   ]
  },
  {
   "cell_type": "code",
   "execution_count": null,
   "metadata": {},
   "outputs": [],
   "source": [
    "emotions_list = list(df_age_race['emotions'].unique())\n",
    "races_list = list(df_age_race['race'].unique())\n",
    "\n",
    "for race in races_list:\n",
    "    exp = \"race =='\"+race+\"'\"\n",
    "    \n",
    "    a = df_age_race.query(exp)\n",
    "    #display(a.groupby([\"emotions\",\"age\", \"race\"], as_index=False).sum())\n",
    "    #display(a.groupby([\"emotions\", \"race\"], as_index=False).sum())\n",
    "    \n",
    "    df_merge = mergeForPlot(df_age_race.query(exp),'age')\n",
    "    plotResult = df_merge.plot.bar(\n",
    "        width = 0.90,\n",
    "        edgecolor='k'\n",
    "    ).set(\n",
    "        xticklabels=emotions_list,\n",
    "        title=\"Emotions for age: \"+race,\n",
    "        xlabel='Emotions',\n",
    "        ylabel=\"Count\"\n",
    "    )\n",
    "    \n",
    "    plt.show()\n",
    "    df_merge = None"
   ]
  },
  {
   "cell_type": "markdown",
   "metadata": {},
   "source": [
    "#### Emotions for age, race and gender"
   ]
  },
  {
   "cell_type": "code",
   "execution_count": null,
   "metadata": {},
   "outputs": [],
   "source": [
    "df_age_race_gender = df.groupby([\"emotions\", \"age\", \"race\",\"gender\"], as_index=False).sum()\n",
    "df_age_race_gender.columns = [\"emotions\", \"age\", \"race\",\"gender\",\"count\"]"
   ]
  },
  {
   "cell_type": "code",
   "execution_count": null,
   "metadata": {},
   "outputs": [],
   "source": [
    "emotions_list = list(df_age_race_gender['emotions'].unique())\n",
    "races_list = list(df_age_race_gender['race'].unique())\n",
    "gender_list = list(df_age_race_gender['gender'].unique())\n",
    "\n",
    "for race in races_list:\n",
    "    for gender in gender_list:\n",
    "        \n",
    "        exp1 = \"race =='\"+race+\"'\"\n",
    "        exp2 = \"gender =='\"+gender+\"'\"\n",
    "        \n",
    "        df_merge = mergeForPlot(df_age_race_gender.query(exp1).query(exp2),'age')\n",
    "        plotResult = df_merge.plot.bar(\n",
    "            width = 0.90,\n",
    "            edgecolor='k'\n",
    "        ).set(\n",
    "            xticklabels=emotions_list,\n",
    "            title=\"Emotions for age: \"+race+\" - \"+gender,\n",
    "            xlabel='Emotions',\n",
    "            ylabel=\"Count\"\n",
    "        )\n",
    "        \n",
    "        plt.show()\n",
    "        df_merge = None"
   ]
  },
  {
   "cell_type": "markdown",
   "metadata": {},
   "source": [
    "## Calculating confidence intervals"
   ]
  },
  {
   "cell_type": "markdown",
   "metadata": {},
   "source": [
    "Probability of probabilities"
   ]
  },
  {
   "cell_type": "code",
   "execution_count": null,
   "metadata": {},
   "outputs": [],
   "source": [
    "emotions_list = df['emotions'].unique()\n",
    "race_list = df['race'].unique()\n",
    "\n",
    "for emotion in emotions_list:\n",
    "    confidence_intervals = {}\n",
    "    \n",
    "    #for plotting\n",
    "    bar_start = []\n",
    "    bar_end = []\n",
    "    \n",
    "    n = len(df[df['emotions'] == emotion])\n",
    "    for race in race_list:\n",
    "        \n",
    "        p = len(df[(df['emotions'] == emotion) & (df['race'] == race)])\n",
    "        p = p/n\n",
    "        \n",
    "        #using formula for calculating confidence intervals with\n",
    "        #discrete variables, using the Adjusted Wald technique\n",
    "        c_interval = np.zeros(2)\n",
    "        offset = 1.96*(np.sqrt(p*(1-p)/n))\n",
    "        c_interval[1] = p + offset\n",
    "        c_interval[0] = p - offset\n",
    "        confidence_intervals[race] = c_interval\n",
    "        \n",
    "        #for plotting\n",
    "        bar_start.append(c_interval[0])\n",
    "        bar_end.append(c_interval[1] - c_interval[0])\n",
    "            \n",
    "    # Ploting line by line\n",
    "    for i in range(len(race_list)):\n",
    "        plt.barh(i, bar_end[i], 0.8, bar_start[i], edgecolor='k')\n",
    "        \n",
    "    # Config plot\n",
    "    plt.xticks(rotation=90)\n",
    "    plt.yticks(range(len(race_list)), race_list)\n",
    "    plt.xlabel('Confidence Interval')\n",
    "    plt.ylabel(\"Races\")\n",
    "    plt.title('Confidence Interval of each race for {}'.format(emotion))\n",
    "    plt.legend(race_list, loc='upper right',  ncol=1 )\n",
    "    plt.xlim(0, 0.6) \n",
    "    plt.grid(which='both', alpha=0.05, color='black',linewidth=0.9)\n",
    "             \n",
    "    plt.show()"
   ]
  }
 ],
 "metadata": {
  "accelerator": "GPU",
  "colab": {
   "collapsed_sections": [],
   "name": "tp",
   "provenance": []
  },
  "kernelspec": {
   "display_name": "Python 3",
   "language": "python",
   "name": "python3"
  },
  "language_info": {
   "codemirror_mode": {
    "name": "ipython",
    "version": 3
   },
   "file_extension": ".py",
   "mimetype": "text/x-python",
   "name": "python",
   "nbconvert_exporter": "python",
   "pygments_lexer": "ipython3",
   "version": "3.7.1"
  }
 },
 "nbformat": 4,
 "nbformat_minor": 1
}
