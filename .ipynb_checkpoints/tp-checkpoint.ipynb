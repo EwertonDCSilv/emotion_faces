{
 "cells": [
  {
   "cell_type": "code",
   "execution_count": 146,
   "metadata": {
    "colab": {
     "base_uri": "https://localhost:8080/",
     "height": 445
    },
    "colab_type": "code",
    "id": "BYvGvBWiyIFO",
    "outputId": "89b10b13-7b0b-45d4-b130-7a6902c8b820"
   },
   "outputs": [
    {
     "data": {
      "text/plain": [
       "'\\n! pip install nltk\\n! pip install mtcnn\\n! pip install cv2\\n! pip install keras\\n! pip install numpy\\n! pip install pandas\\n! pip install cv2\\n! pip install regex\\n'"
      ]
     },
     "execution_count": 146,
     "metadata": {},
     "output_type": "execute_result"
    }
   ],
   "source": [
    "\"\"\"\n",
    "    Requirements to execute code\n",
    "\"\"\"\n",
    "\n",
    "\"\"\"\n",
    "! pip install nltk\n",
    "! pip install mtcnn\n",
    "! pip install cv2\n",
    "! pip install keras\n",
    "! pip install numpy\n",
    "! pip install pandas\n",
    "! pip install cv2\n",
    "! pip install regex\n",
    "\"\"\""
   ]
  },
  {
   "cell_type": "code",
   "execution_count": 9,
   "metadata": {
    "colab": {
     "base_uri": "https://localhost:8080/",
     "height": 80
    },
    "colab_type": "code",
    "id": "Diqj8z1pHtPv",
    "outputId": "b48b38ab-4686-4a58-cff9-cb71fff348d2"
   },
   "outputs": [],
   "source": [
    "from keras.models import Sequential\n",
    "from keras.layers.core import Dense, Dropout, Flatten\n",
    "from keras.layers.convolutional import Conv2D\n",
    "from keras.optimizers import Adam\n",
    "from keras.layers.pooling import MaxPooling2D\n",
    "from keras.preprocessing.image import ImageDataGenerator\n",
    "import os\n",
    "import cv2\n",
    "import pandas as pd\n",
    "import numpy as np\n",
    "import matplotlib as mpl\n",
    "import matplotlib.pyplot as plt\n",
    "\n",
    "%matplotlib inline\n",
    "plt.rcParams['figure.figsize']  = (10, 8)\n",
    "plt.rcParams['axes.labelsize']  = 12\n",
    "plt.rcParams['axes.titlesize']  = 16\n",
    "plt.rcParams['legend.fontsize'] = 12\n",
    "plt.rcParams['xtick.labelsize'] = 12\n",
    "plt.rcParams['ytick.labelsize'] = 12"
   ]
  },
  {
   "cell_type": "code",
   "execution_count": null,
   "metadata": {},
   "outputs": [],
   "source": [
    "plt.ion()\n",
    "\n",
    "plt.style.use('seaborn-colorblind')\n",
    "plt.rcParams['figure.figsize']  = (10, 8)"
   ]
  },
  {
   "cell_type": "markdown",
   "metadata": {
    "colab_type": "text",
    "id": "M20iOeIpGDEv"
   },
   "source": [
    "# **Comparando modelos para classificar a imagem**"
   ]
  },
  {
   "cell_type": "code",
   "execution_count": null,
   "metadata": {},
   "outputs": [],
   "source": [
    "\"\"\"\n",
    "    Importing Pre-Trained  face recognition model.\n",
    "    Font article : https://github.com/atulapra/Emotion-detection/blob/master/ResearchPaper.pdf\n",
    "\"\"\"\n",
    "\n",
    "# Create the model\n",
    "model = Sequential()\n",
    "\n",
    "model.add(Conv2D(32, kernel_size=(3, 3), activation='relu', input_shape=(48,48,1)))\n",
    "model.add(Conv2D(64, kernel_size=(3, 3), activation='relu'))\n",
    "model.add(MaxPooling2D(pool_size=(2, 2)))\n",
    "model.add(Dropout(0.25))\n",
    "\n",
    "model.add(Conv2D(128, kernel_size=(3, 3), activation='relu'))\n",
    "model.add(MaxPooling2D(pool_size=(2, 2)))\n",
    "model.add(Conv2D(128, kernel_size=(3, 3), activation='relu'))\n",
    "model.add(MaxPooling2D(pool_size=(2, 2)))\n",
    "model.add(Dropout(0.25))\n",
    "\n",
    "model.add(Flatten())\n",
    "model.add(Dense(1024, activation='relu'))\n",
    "model.add(Dropout(0.5))\n",
    "model.add(Dense(7, activation='softmax'))\n",
    "\n",
    "model.load_weights('model/model.h5')   \n",
    "\n",
    "path = 'fairface-img-margin125-trainval/train/'\n",
    "images_list = os.listdir(path)\n",
    "\n",
    "emotion_dict = {0: \"Angry\", 1: \"Disgusted\", 2: \"Fearful\", 3: \"Happy\", 4: \"Neutral\", 5: \"Sad\", 6: \"Surprised\"}\n",
    "\n",
    "dictResult = {}\n",
    "resultImage = {}\n",
    "i = 0\n",
    "\n",
    "for file in images_list:\n",
    "    nameFile = path+file\n",
    "    \n",
    "    if i % 1000 == 0:\n",
    "        print(\"{}/{}- file:{}\".format(i,len(images_list),nameFile))\n",
    "\n",
    "    face_image  = cv2.imread(nameFile)\n",
    "    face_image = cv2.resize(face_image, (48,48))\n",
    "    face_image = cv2.cvtColor(face_image, cv2.COLOR_BGR2GRAY)\n",
    "    face_image = np.reshape(face_image, [1, face_image.shape[0], face_image.shape[1], 1])\n",
    "\n",
    "    predicted_class = np.argmax(model.predict(face_image))\n",
    "    predicted_label = emotion_dict [predicted_class]\n",
    "    \n",
    "    if predicted_label in dictResult:\n",
    "        dictResult[predicted_label] += 1\n",
    "    else:\n",
    "        dictResult.update({predicted_label: 1})\n",
    "        \n",
    "    resultImage.update({file: predicted_label})\n",
    "    \n",
    "\n",
    "    i += 1\n",
    "\n",
    "# ALL: {'Angry': 9376, 'Sad': 17019, 'Happy': 24401, 'Fear': 22127, 'Disgust': 39, 'Neutral': 8428, 'Surprise': 5354}\n",
    "# 1000 : {'Angry': 109, 'Sad': 217, 'Happy': 274, 'Fear': 246, 'Disgust': 1, 'Neutral': 90, 'Surprise': 63}"
   ]
  },
  {
   "cell_type": "markdown",
   "metadata": {},
   "source": [
    "## Exploratory Data Analisys"
   ]
  },
  {
   "cell_type": "markdown",
   "metadata": {},
   "source": [
    "### Merge data frames"
   ]
  },
  {
   "cell_type": "code",
   "execution_count": null,
   "metadata": {},
   "outputs": [],
   "source": [
    "# Dataframe of labels\n",
    "df = pd.read_csv('label/fairface_label_train.csv')\n",
    "df.loc[:,\"file\"] = [x.replace('train/',\"\") for x in df.loc[:,\"file\"]]\n",
    "\n",
    "data = {'file':list(resultImage.keys()), 'emotions':list(resultImage.values())}\n",
    "\n",
    "# Dataframe of result\n",
    "df_result = pd.DataFrame(data=data, columns=['file', 'emotions'])\n",
    "\n",
    "# Join two files\n",
    "df = pd.merge(df_result, df, how=\"outer\", on=\"file\")\n",
    "df.head(5)"
   ]
  },
  {
   "cell_type": "code",
   "execution_count": null,
   "metadata": {},
   "outputs": [],
   "source": [
    "# Saves result to your used later\n",
    "df.to_csv('label/emotions-fairface.csv')"
   ]
  },
  {
   "cell_type": "code",
   "execution_count": 3,
   "metadata": {},
   "outputs": [
    {
     "data": {
      "text/html": [
       "<div>\n",
       "<style scoped>\n",
       "    .dataframe tbody tr th:only-of-type {\n",
       "        vertical-align: middle;\n",
       "    }\n",
       "\n",
       "    .dataframe tbody tr th {\n",
       "        vertical-align: top;\n",
       "    }\n",
       "\n",
       "    .dataframe thead th {\n",
       "        text-align: right;\n",
       "    }\n",
       "</style>\n",
       "<table border=\"1\" class=\"dataframe\">\n",
       "  <thead>\n",
       "    <tr style=\"text-align: right;\">\n",
       "      <th></th>\n",
       "      <th>file</th>\n",
       "      <th>emotions</th>\n",
       "      <th>age</th>\n",
       "      <th>gender</th>\n",
       "      <th>race</th>\n",
       "      <th>service_test</th>\n",
       "    </tr>\n",
       "  </thead>\n",
       "  <tbody>\n",
       "    <tr>\n",
       "      <th>0</th>\n",
       "      <td>1.jpg</td>\n",
       "      <td>Angry</td>\n",
       "      <td>50-59</td>\n",
       "      <td>Male</td>\n",
       "      <td>East Asian</td>\n",
       "      <td>True</td>\n",
       "    </tr>\n",
       "    <tr>\n",
       "      <th>1</th>\n",
       "      <td>10.jpg</td>\n",
       "      <td>Sad</td>\n",
       "      <td>30-39</td>\n",
       "      <td>Male</td>\n",
       "      <td>Middle Eastern</td>\n",
       "      <td>False</td>\n",
       "    </tr>\n",
       "    <tr>\n",
       "      <th>2</th>\n",
       "      <td>100.jpg</td>\n",
       "      <td>Happy</td>\n",
       "      <td>20-29</td>\n",
       "      <td>Female</td>\n",
       "      <td>East Asian</td>\n",
       "      <td>False</td>\n",
       "    </tr>\n",
       "    <tr>\n",
       "      <th>3</th>\n",
       "      <td>1000.jpg</td>\n",
       "      <td>Fear</td>\n",
       "      <td>30-39</td>\n",
       "      <td>Male</td>\n",
       "      <td>White</td>\n",
       "      <td>False</td>\n",
       "    </tr>\n",
       "    <tr>\n",
       "      <th>4</th>\n",
       "      <td>10000.jpg</td>\n",
       "      <td>Happy</td>\n",
       "      <td>50-59</td>\n",
       "      <td>Male</td>\n",
       "      <td>White</td>\n",
       "      <td>False</td>\n",
       "    </tr>\n",
       "  </tbody>\n",
       "</table>\n",
       "</div>"
      ],
      "text/plain": [
       "        file emotions    age  gender            race  service_test\n",
       "0      1.jpg    Angry  50-59    Male      East Asian          True\n",
       "1     10.jpg      Sad  30-39    Male  Middle Eastern         False\n",
       "2    100.jpg    Happy  20-29  Female      East Asian         False\n",
       "3   1000.jpg     Fear  30-39    Male           White         False\n",
       "4  10000.jpg    Happy  50-59    Male           White         False"
      ]
     },
     "execution_count": 3,
     "metadata": {},
     "output_type": "execute_result"
    }
   ],
   "source": [
    "# Importing result images classification \n",
    "df = pd.read_csv('label/emotions-fairface.csv', index_col=0)\n",
    "df.head(5)"
   ]
  },
  {
   "cell_type": "markdown",
   "metadata": {},
   "source": [
    "### Function for merge columns categories"
   ]
  },
  {
   "cell_type": "code",
   "execution_count": 4,
   "metadata": {},
   "outputs": [],
   "source": [
    "def mergeForPlot(df, colName):\n",
    "    # Define labels for aixes X\n",
    "    emotions_list = list(df['emotions'].unique())\n",
    "\n",
    "    # Set of ages\n",
    "    labels = set(df[colName])\n",
    "    \n",
    "    # Define empty dataframe\n",
    "    df_merge = pd.DataFrame({})\n",
    "\n",
    "    for label in labels:\n",
    "\n",
    "        # Group for age \n",
    "        exp = colName+' == \"'+label +'\"'\n",
    "        data = df.query(exp)\n",
    "        data = data[[\"emotions\",\"count\"]]\n",
    "        data.columns = [\"emotions\",\"count \"+label]\n",
    "\n",
    "        if df_merge.shape[0] == 0:\n",
    "            df_merge = data\n",
    "        else:\n",
    "            df_merge = pd.merge(df_merge,data, on=\"emotions\", how =\"outer\")\n",
    "    \n",
    "    return df_merge"
   ]
  },
  {
   "cell_type": "markdown",
   "metadata": {},
   "source": [
    "### Emotions for gender"
   ]
  },
  {
   "cell_type": "code",
   "execution_count": 5,
   "metadata": {},
   "outputs": [],
   "source": [
    "df_gender = df.groupby([\"emotions\", \"gender\"], as_index=False).sum()\n",
    "df_gender.columns = [\"emotions\", \"gender\", \"count\"]"
   ]
  },
  {
   "cell_type": "code",
   "execution_count": 7,
   "metadata": {
    "scrolled": false
   },
   "outputs": [
    {
     "data": {
      "image/png": "[encoded data removed]",
      "text/plain": [
       "<Figure size 432x288 with 1 Axes>"
      ]
     },
     "metadata": {
      "needs_background": "light"
     },
     "output_type": "display_data"
    }
   ],
   "source": [
    "emotions_list = list(df_gender['emotions'].unique())\n",
    "\n",
    "df_merge = mergeForPlot(df_gender,'gender')\n",
    "plotResult = df_merge.plot.bar(width = 0.25).set(\n",
    "    xticklabels=emotions_list,\n",
    "    title=\"Emotions for gender\",\n",
    "    xlabel='Emotions',\n",
    "    ylabel=\"Count\"\n",
    ")"
   ]
  },
  {
   "cell_type": "markdown",
   "metadata": {},
   "source": [
    "### Emotions for races"
   ]
  },
  {
   "cell_type": "code",
   "execution_count": null,
   "metadata": {},
   "outputs": [],
   "source": [
    "df_race = df.groupby([\"emotions\", \"race\"], as_index=False).sum()\n",
    "df_race.columns = [\"emotions\", \"race\", \"count\"]"
   ]
  },
  {
   "cell_type": "code",
   "execution_count": null,
   "metadata": {},
   "outputs": [],
   "source": [
    "emotions_list = list(df_race['emotions'].unique())\n",
    "\n",
    "df_merge = mergeForPlot(df_race,'race')\n",
    "plotResult = df_merge.plot.bar(width = 0.90).set(\n",
    "    xticklabels=emotions_list,\n",
    "    title=\"Emotions for race\",\n",
    "    xlabel='Emotions',\n",
    "    ylabel=\"Count\"\n",
    ")"
   ]
  },
  {
   "cell_type": "markdown",
   "metadata": {},
   "source": [
    "### Emotions for age"
   ]
  },
  {
   "cell_type": "code",
   "execution_count": null,
   "metadata": {},
   "outputs": [],
   "source": [
    "df_age = df.groupby([\"emotions\", \"age\"], as_index=False).sum()\n",
    "df_age.columns = [\"emotions\", \"age\", \"count\"]"
   ]
  },
  {
   "cell_type": "code",
   "execution_count": null,
   "metadata": {},
   "outputs": [],
   "source": [
    "emotions_list = list(df_age['emotions'].unique())\n",
    "\n",
    "df_merge = mergeForPlot(df_age,'age')\n",
    "plotResult = df_merge.plot.bar(width = 0.90).set(\n",
    "    xticklabels=emotions_list,\n",
    "    title=\"Emotions for age\",\n",
    "    xlabel='Emotions',\n",
    "    ylabel=\"Count\"\n",
    ")"
   ]
  },
  {
   "cell_type": "markdown",
   "metadata": {},
   "source": [
    "### Emotions for age and gender"
   ]
  },
  {
   "cell_type": "code",
   "execution_count": null,
   "metadata": {},
   "outputs": [],
   "source": [
    "df_age_gender = df.groupby([\"emotions\", \"age\", \"gender\"], as_index=False).sum()\n",
    "df_age_gender.columns = [\"emotions\", \"age\", \"gender\",\"count\"]"
   ]
  },
  {
   "cell_type": "markdown",
   "metadata": {},
   "source": [
    "#### Gender: male"
   ]
  },
  {
   "cell_type": "code",
   "execution_count": null,
   "metadata": {},
   "outputs": [],
   "source": [
    "df_male = df_age_gender.query(\"gender == 'Male'\")\n",
    "df_female = df_age_gender.query(\"gender == 'Female'\")"
   ]
  },
  {
   "cell_type": "code",
   "execution_count": null,
   "metadata": {},
   "outputs": [],
   "source": [
    "emotions_list = list(df_male['emotions'].unique())\n",
    "\n",
    "df_merge = mergeForPlot(df_male,'age')\n",
    "plotResult = df_merge.plot.bar(width = 0.90).set(\n",
    "    xticklabels=emotions_list,\n",
    "    title=\"Emotions for age: male\",\n",
    "    xlabel='Emotions',\n",
    "    ylabel=\"Count\"\n",
    ")"
   ]
  },
  {
   "cell_type": "markdown",
   "metadata": {},
   "source": [
    "#### Gender: female"
   ]
  },
  {
   "cell_type": "code",
   "execution_count": null,
   "metadata": {},
   "outputs": [],
   "source": [
    "emotions_list = list(df_female['emotions'].unique())\n",
    "\n",
    "df_merge = mergeForPlot(df_female,'age')\n",
    "plotResult = df_merge.plot.bar(width = 0.90).set(\n",
    "    xticklabels=emotions_list,\n",
    "    title=\"Emotions for age: female\",\n",
    "    xlabel='Emotions',\n",
    "    ylabel=\"Count\"\n",
    ")"
   ]
  },
  {
   "cell_type": "markdown",
   "metadata": {},
   "source": [
    "### Emotions for age and race"
   ]
  },
  {
   "cell_type": "code",
   "execution_count": null,
   "metadata": {},
   "outputs": [],
   "source": [
    "df_age_race = df.groupby([\"emotions\", \"age\", \"race\"], as_index=False).sum()\n",
    "df_age_race.columns = [\"emotions\", \"age\", \"race\",\"count\"]"
   ]
  },
  {
   "cell_type": "code",
   "execution_count": null,
   "metadata": {},
   "outputs": [],
   "source": [
    "emotions_list = list(df_age_race['emotions'].unique())\n",
    "races_list = list(df_age_race['race'].unique())\n",
    "\n",
    "for race in races_list:\n",
    "    exp = \"race =='\"+race\"'\"\n",
    "    df_merge = mergeForPlot(df_age_race.query(exp),'age')\n",
    "    plotResult = df_merge.plot.bar(width = 0.90).set(\n",
    "        xticklabels=emotions_list,\n",
    "        title=\"Emotions for age: \"+race,\n",
    "        xlabel='Emotions',\n",
    "        ylabel=\"Count\"\n",
    "    )"
   ]
  },
  {
   "cell_type": "code",
   "execution_count": null,
   "metadata": {},
   "outputs": [],
   "source": []
  }
 ],
 "metadata": {
  "accelerator": "GPU",
  "colab": {
   "collapsed_sections": [],
   "name": "tp",
   "provenance": []
  },
  "kernelspec": {
   "display_name": "Python 3",
   "language": "python",
   "name": "python3"
  }
 },
 "nbformat": 4,
 "nbformat_minor": 1
}
